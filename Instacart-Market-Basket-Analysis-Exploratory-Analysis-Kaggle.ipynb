{
 "cells": [
  {
   "cell_type": "markdown",
   "metadata": {},
   "source": [
    "## I plan to do an exploratory analysis of the Instacart data"
   ]
  },
  {
   "cell_type": "code",
   "execution_count": 27,
   "metadata": {
    "collapsed": true
   },
   "outputs": [],
   "source": [
    "import pandas as pd\n",
    "import numpy as np\n",
    "%matplotlib inline \n",
    "\n",
    "import matplotlib as mpl\n",
    "import matplotlib.pyplot as plt\n",
    "mpl.style.use('ggplot') # for ggplot-like style"
   ]
  },
  {
   "cell_type": "markdown",
   "metadata": {},
   "source": [
    "## Import Data"
   ]
  },
  {
   "cell_type": "code",
   "execution_count": 28,
   "metadata": {
    "collapsed": true
   },
   "outputs": [],
   "source": [
    "aisles=pd.read_csv('aisles.csv')\n",
    "\n",
    "departments=pd.read_csv('departments.csv')\n",
    "\n",
    "orders=pd.read_csv('orders.csv')\n",
    "\n",
    "products=pd.read_csv('products.csv')\n",
    "\n",
    "order_products_prior=pd.read_csv('order_products__prior.csv')\n",
    "\n",
    "order_products_train=pd.read_csv('order_products__train.csv')\n"
   ]
  },
  {
   "cell_type": "markdown",
   "metadata": {},
   "source": [
    "## Look at the orders dataset"
   ]
  },
  {
   "cell_type": "code",
   "execution_count": 29,
   "metadata": {},
   "outputs": [
    {
     "data": {
      "text/html": [
       "<div>\n",
       "<style scoped>\n",
       "    .dataframe tbody tr th:only-of-type {\n",
       "        vertical-align: middle;\n",
       "    }\n",
       "\n",
       "    .dataframe tbody tr th {\n",
       "        vertical-align: top;\n",
       "    }\n",
       "\n",
       "    .dataframe thead th {\n",
       "        text-align: right;\n",
       "    }\n",
       "</style>\n",
       "<table border=\"1\" class=\"dataframe\">\n",
       "  <thead>\n",
       "    <tr style=\"text-align: right;\">\n",
       "      <th></th>\n",
       "      <th>order_id</th>\n",
       "      <th>user_id</th>\n",
       "      <th>eval_set</th>\n",
       "      <th>order_number</th>\n",
       "      <th>order_dow</th>\n",
       "      <th>order_hour_of_day</th>\n",
       "      <th>days_since_prior_order</th>\n",
       "    </tr>\n",
       "  </thead>\n",
       "  <tbody>\n",
       "    <tr>\n",
       "      <td>0</td>\n",
       "      <td>2539329</td>\n",
       "      <td>1</td>\n",
       "      <td>prior</td>\n",
       "      <td>1</td>\n",
       "      <td>2</td>\n",
       "      <td>8</td>\n",
       "      <td>NaN</td>\n",
       "    </tr>\n",
       "    <tr>\n",
       "      <td>1</td>\n",
       "      <td>2398795</td>\n",
       "      <td>1</td>\n",
       "      <td>prior</td>\n",
       "      <td>2</td>\n",
       "      <td>3</td>\n",
       "      <td>7</td>\n",
       "      <td>15.0</td>\n",
       "    </tr>\n",
       "    <tr>\n",
       "      <td>2</td>\n",
       "      <td>473747</td>\n",
       "      <td>1</td>\n",
       "      <td>prior</td>\n",
       "      <td>3</td>\n",
       "      <td>3</td>\n",
       "      <td>12</td>\n",
       "      <td>21.0</td>\n",
       "    </tr>\n",
       "    <tr>\n",
       "      <td>3</td>\n",
       "      <td>2254736</td>\n",
       "      <td>1</td>\n",
       "      <td>prior</td>\n",
       "      <td>4</td>\n",
       "      <td>4</td>\n",
       "      <td>7</td>\n",
       "      <td>29.0</td>\n",
       "    </tr>\n",
       "    <tr>\n",
       "      <td>4</td>\n",
       "      <td>431534</td>\n",
       "      <td>1</td>\n",
       "      <td>prior</td>\n",
       "      <td>5</td>\n",
       "      <td>4</td>\n",
       "      <td>15</td>\n",
       "      <td>28.0</td>\n",
       "    </tr>\n",
       "  </tbody>\n",
       "</table>\n",
       "</div>"
      ],
      "text/plain": [
       "   order_id  user_id eval_set  order_number  order_dow  order_hour_of_day  \\\n",
       "0   2539329        1    prior             1          2                  8   \n",
       "1   2398795        1    prior             2          3                  7   \n",
       "2    473747        1    prior             3          3                 12   \n",
       "3   2254736        1    prior             4          4                  7   \n",
       "4    431534        1    prior             5          4                 15   \n",
       "\n",
       "   days_since_prior_order  \n",
       "0                     NaN  \n",
       "1                    15.0  \n",
       "2                    21.0  \n",
       "3                    29.0  \n",
       "4                    28.0  "
      ]
     },
     "execution_count": 29,
     "metadata": {},
     "output_type": "execute_result"
    }
   ],
   "source": [
    "orders.head()"
   ]
  },
  {
   "cell_type": "code",
   "execution_count": 30,
   "metadata": {},
   "outputs": [
    {
     "data": {
      "text/html": [
       "<div>\n",
       "<style scoped>\n",
       "    .dataframe tbody tr th:only-of-type {\n",
       "        vertical-align: middle;\n",
       "    }\n",
       "\n",
       "    .dataframe tbody tr th {\n",
       "        vertical-align: top;\n",
       "    }\n",
       "\n",
       "    .dataframe thead th {\n",
       "        text-align: right;\n",
       "    }\n",
       "</style>\n",
       "<table border=\"1\" class=\"dataframe\">\n",
       "  <thead>\n",
       "    <tr style=\"text-align: right;\">\n",
       "      <th></th>\n",
       "      <th>OrderId</th>\n",
       "      <th>OrderDate</th>\n",
       "      <th>UserId</th>\n",
       "      <th>TotalCharges</th>\n",
       "      <th>CommonId</th>\n",
       "      <th>PupId</th>\n",
       "      <th>PickupDate</th>\n",
       "      <th>OrderPeriod</th>\n",
       "      <th>CohortGroup</th>\n",
       "    </tr>\n",
       "  </thead>\n",
       "  <tbody>\n",
       "    <tr>\n",
       "      <td>0</td>\n",
       "      <td>262</td>\n",
       "      <td>2009-01-11</td>\n",
       "      <td>47</td>\n",
       "      <td>50.6700</td>\n",
       "      <td>TRQKD</td>\n",
       "      <td>2</td>\n",
       "      <td>2009-01-12</td>\n",
       "      <td>2009-01</td>\n",
       "      <td>2009-01</td>\n",
       "    </tr>\n",
       "    <tr>\n",
       "      <td>1</td>\n",
       "      <td>278</td>\n",
       "      <td>2009-01-20</td>\n",
       "      <td>47</td>\n",
       "      <td>26.6000</td>\n",
       "      <td>4HH2S</td>\n",
       "      <td>3</td>\n",
       "      <td>2009-01-20</td>\n",
       "      <td>2009-01</td>\n",
       "      <td>2009-01</td>\n",
       "    </tr>\n",
       "    <tr>\n",
       "      <td>2</td>\n",
       "      <td>294</td>\n",
       "      <td>2009-02-03</td>\n",
       "      <td>47</td>\n",
       "      <td>38.7100</td>\n",
       "      <td>3TRDC</td>\n",
       "      <td>2</td>\n",
       "      <td>2009-02-04</td>\n",
       "      <td>2009-02</td>\n",
       "      <td>2009-02</td>\n",
       "    </tr>\n",
       "    <tr>\n",
       "      <td>3</td>\n",
       "      <td>301</td>\n",
       "      <td>2009-02-06</td>\n",
       "      <td>47</td>\n",
       "      <td>53.3800</td>\n",
       "      <td>NGAZJ</td>\n",
       "      <td>2</td>\n",
       "      <td>2009-02-09</td>\n",
       "      <td>2009-02</td>\n",
       "      <td>2009-02</td>\n",
       "    </tr>\n",
       "    <tr>\n",
       "      <td>4</td>\n",
       "      <td>302</td>\n",
       "      <td>2009-02-06</td>\n",
       "      <td>47</td>\n",
       "      <td>14.2800</td>\n",
       "      <td>FFYHD</td>\n",
       "      <td>2</td>\n",
       "      <td>2009-02-09</td>\n",
       "      <td>2009-02</td>\n",
       "      <td>2009-02</td>\n",
       "    </tr>\n",
       "    <tr>\n",
       "      <td>...</td>\n",
       "      <td>...</td>\n",
       "      <td>...</td>\n",
       "      <td>...</td>\n",
       "      <td>...</td>\n",
       "      <td>...</td>\n",
       "      <td>...</td>\n",
       "      <td>...</td>\n",
       "      <td>...</td>\n",
       "      <td>...</td>\n",
       "    </tr>\n",
       "    <tr>\n",
       "      <td>2886</td>\n",
       "      <td>3220</td>\n",
       "      <td>2010-03-08</td>\n",
       "      <td>393616</td>\n",
       "      <td>60.0155</td>\n",
       "      <td>AWNXG</td>\n",
       "      <td>15</td>\n",
       "      <td>2010-03-08</td>\n",
       "      <td>2010-03</td>\n",
       "      <td>2010-03</td>\n",
       "    </tr>\n",
       "    <tr>\n",
       "      <td>2887</td>\n",
       "      <td>3192</td>\n",
       "      <td>2010-03-07</td>\n",
       "      <td>394290</td>\n",
       "      <td>45.4300</td>\n",
       "      <td>AKGQT</td>\n",
       "      <td>12</td>\n",
       "      <td>2010-03-10</td>\n",
       "      <td>2010-03</td>\n",
       "      <td>2010-03</td>\n",
       "    </tr>\n",
       "    <tr>\n",
       "      <td>2888</td>\n",
       "      <td>3193</td>\n",
       "      <td>2010-03-07</td>\n",
       "      <td>394346</td>\n",
       "      <td>14.2100</td>\n",
       "      <td>2B47R</td>\n",
       "      <td>15</td>\n",
       "      <td>2010-03-08</td>\n",
       "      <td>2010-03</td>\n",
       "      <td>2010-03</td>\n",
       "    </tr>\n",
       "    <tr>\n",
       "      <td>2889</td>\n",
       "      <td>3207</td>\n",
       "      <td>2010-03-08</td>\n",
       "      <td>395039</td>\n",
       "      <td>34.6200</td>\n",
       "      <td>H6E23</td>\n",
       "      <td>4</td>\n",
       "      <td>2010-03-08</td>\n",
       "      <td>2010-03</td>\n",
       "      <td>2010-03</td>\n",
       "    </tr>\n",
       "    <tr>\n",
       "      <td>2890</td>\n",
       "      <td>3231</td>\n",
       "      <td>2010-03-08</td>\n",
       "      <td>396551</td>\n",
       "      <td>127.2800</td>\n",
       "      <td>9SBZ8</td>\n",
       "      <td>3</td>\n",
       "      <td>2010-03-09</td>\n",
       "      <td>2010-03</td>\n",
       "      <td>2010-03</td>\n",
       "    </tr>\n",
       "  </tbody>\n",
       "</table>\n",
       "<p>2891 rows × 9 columns</p>\n",
       "</div>"
      ],
      "text/plain": [
       "      OrderId  OrderDate  UserId  TotalCharges CommonId  PupId PickupDate  \\\n",
       "0         262 2009-01-11      47       50.6700    TRQKD      2 2009-01-12   \n",
       "1         278 2009-01-20      47       26.6000    4HH2S      3 2009-01-20   \n",
       "2         294 2009-02-03      47       38.7100    3TRDC      2 2009-02-04   \n",
       "3         301 2009-02-06      47       53.3800    NGAZJ      2 2009-02-09   \n",
       "4         302 2009-02-06      47       14.2800    FFYHD      2 2009-02-09   \n",
       "...       ...        ...     ...           ...      ...    ...        ...   \n",
       "2886     3220 2010-03-08  393616       60.0155    AWNXG     15 2010-03-08   \n",
       "2887     3192 2010-03-07  394290       45.4300    AKGQT     12 2010-03-10   \n",
       "2888     3193 2010-03-07  394346       14.2100    2B47R     15 2010-03-08   \n",
       "2889     3207 2010-03-08  395039       34.6200    H6E23      4 2010-03-08   \n",
       "2890     3231 2010-03-08  396551      127.2800    9SBZ8      3 2010-03-09   \n",
       "\n",
       "     OrderPeriod CohortGroup  \n",
       "0        2009-01     2009-01  \n",
       "1        2009-01     2009-01  \n",
       "2        2009-02     2009-02  \n",
       "3        2009-02     2009-02  \n",
       "4        2009-02     2009-02  \n",
       "...          ...         ...  \n",
       "2886     2010-03     2010-03  \n",
       "2887     2010-03     2010-03  \n",
       "2888     2010-03     2010-03  \n",
       "2889     2010-03     2010-03  \n",
       "2890     2010-03     2010-03  \n",
       "\n",
       "[2891 rows x 9 columns]"
      ]
     },
     "execution_count": 30,
     "metadata": {},
     "output_type": "execute_result"
    }
   ],
   "source": [
    "#import custoemr data\n",
    "xls=pd.ExcelFile('relay-foods.xlsx')\n",
    "\n",
    "#read the second sheet of the excel\n",
    "udata=xls.parse(1)\n",
    "\n",
    "# Extract year and month from the OrderDate column. strftim convert datetime to string \n",
    "udata['OrderPeriod'] = udata.OrderDate.apply(lambda g: g.strftime('%Y-%m')) #'%y-%m' will return 09 instead of 2009 as the year\n",
    "\n",
    "# generate cohort group based the the earliest order date for each user id\n",
    "udata['CohortGroup']=udata.groupby(level=0)['OrderDate'].min().apply(lambda g: g.strftime('%Y-%m'))\n",
    "\n",
    "udata\n"
   ]
  },
  {
   "cell_type": "code",
   "execution_count": 31,
   "metadata": {},
   "outputs": [
    {
     "data": {
      "text/html": [
       "<div>\n",
       "<style scoped>\n",
       "    .dataframe tbody tr th:only-of-type {\n",
       "        vertical-align: middle;\n",
       "    }\n",
       "\n",
       "    .dataframe tbody tr th {\n",
       "        vertical-align: top;\n",
       "    }\n",
       "\n",
       "    .dataframe thead th {\n",
       "        text-align: right;\n",
       "    }\n",
       "</style>\n",
       "<table border=\"1\" class=\"dataframe\">\n",
       "  <thead>\n",
       "    <tr style=\"text-align: right;\">\n",
       "      <th></th>\n",
       "      <th></th>\n",
       "      <th>TotalOrders</th>\n",
       "      <th>TotalUsers</th>\n",
       "      <th>TotalCharges</th>\n",
       "    </tr>\n",
       "    <tr>\n",
       "      <th>CohortGroup</th>\n",
       "      <th>OrderPeriod</th>\n",
       "      <th></th>\n",
       "      <th></th>\n",
       "      <th></th>\n",
       "    </tr>\n",
       "  </thead>\n",
       "  <tbody>\n",
       "    <tr>\n",
       "      <td>2009-01</td>\n",
       "      <td>2009-01</td>\n",
       "      <td>30.0</td>\n",
       "      <td>22.0</td>\n",
       "      <td>1850.2550</td>\n",
       "    </tr>\n",
       "    <tr>\n",
       "      <td>2009-02</td>\n",
       "      <td>2009-02</td>\n",
       "      <td>40.0</td>\n",
       "      <td>23.0</td>\n",
       "      <td>2017.3750</td>\n",
       "    </tr>\n",
       "    <tr>\n",
       "      <td>2009-03</td>\n",
       "      <td>2009-03</td>\n",
       "      <td>52.0</td>\n",
       "      <td>26.0</td>\n",
       "      <td>2665.2800</td>\n",
       "    </tr>\n",
       "    <tr>\n",
       "      <td>2009-04</td>\n",
       "      <td>2009-04</td>\n",
       "      <td>103.0</td>\n",
       "      <td>57.0</td>\n",
       "      <td>5598.3300</td>\n",
       "    </tr>\n",
       "    <tr>\n",
       "      <td>2009-05</td>\n",
       "      <td>2009-05</td>\n",
       "      <td>147.0</td>\n",
       "      <td>79.0</td>\n",
       "      <td>6554.3350</td>\n",
       "    </tr>\n",
       "    <tr>\n",
       "      <td>2009-06</td>\n",
       "      <td>2009-06</td>\n",
       "      <td>140.0</td>\n",
       "      <td>71.0</td>\n",
       "      <td>6822.5000</td>\n",
       "    </tr>\n",
       "    <tr>\n",
       "      <td>2009-07</td>\n",
       "      <td>2009-07</td>\n",
       "      <td>183.0</td>\n",
       "      <td>103.0</td>\n",
       "      <td>8178.1900</td>\n",
       "    </tr>\n",
       "    <tr>\n",
       "      <td>2009-08</td>\n",
       "      <td>2009-08</td>\n",
       "      <td>159.0</td>\n",
       "      <td>87.0</td>\n",
       "      <td>8759.2675</td>\n",
       "    </tr>\n",
       "    <tr>\n",
       "      <td>2009-09</td>\n",
       "      <td>2009-09</td>\n",
       "      <td>184.0</td>\n",
       "      <td>92.0</td>\n",
       "      <td>10793.3471</td>\n",
       "    </tr>\n",
       "    <tr>\n",
       "      <td>2009-10</td>\n",
       "      <td>2009-10</td>\n",
       "      <td>217.0</td>\n",
       "      <td>120.0</td>\n",
       "      <td>11962.3396</td>\n",
       "    </tr>\n",
       "    <tr>\n",
       "      <td>2009-11</td>\n",
       "      <td>2009-11</td>\n",
       "      <td>316.0</td>\n",
       "      <td>206.0</td>\n",
       "      <td>17051.7253</td>\n",
       "    </tr>\n",
       "    <tr>\n",
       "      <td>2009-12</td>\n",
       "      <td>2009-12</td>\n",
       "      <td>282.0</td>\n",
       "      <td>155.0</td>\n",
       "      <td>19438.5539</td>\n",
       "    </tr>\n",
       "    <tr>\n",
       "      <td>2010-01</td>\n",
       "      <td>2010-01</td>\n",
       "      <td>403.0</td>\n",
       "      <td>212.0</td>\n",
       "      <td>28225.9376</td>\n",
       "    </tr>\n",
       "    <tr>\n",
       "      <td>2010-02</td>\n",
       "      <td>2010-02</td>\n",
       "      <td>480.0</td>\n",
       "      <td>261.0</td>\n",
       "      <td>33390.5431</td>\n",
       "    </tr>\n",
       "    <tr>\n",
       "      <td>2010-03</td>\n",
       "      <td>2010-03</td>\n",
       "      <td>155.0</td>\n",
       "      <td>130.0</td>\n",
       "      <td>9999.3306</td>\n",
       "    </tr>\n",
       "  </tbody>\n",
       "</table>\n",
       "</div>"
      ],
      "text/plain": [
       "                         TotalOrders  TotalUsers  TotalCharges\n",
       "CohortGroup OrderPeriod                                       \n",
       "2009-01     2009-01             30.0        22.0     1850.2550\n",
       "2009-02     2009-02             40.0        23.0     2017.3750\n",
       "2009-03     2009-03             52.0        26.0     2665.2800\n",
       "2009-04     2009-04            103.0        57.0     5598.3300\n",
       "2009-05     2009-05            147.0        79.0     6554.3350\n",
       "2009-06     2009-06            140.0        71.0     6822.5000\n",
       "2009-07     2009-07            183.0       103.0     8178.1900\n",
       "2009-08     2009-08            159.0        87.0     8759.2675\n",
       "2009-09     2009-09            184.0        92.0    10793.3471\n",
       "2009-10     2009-10            217.0       120.0    11962.3396\n",
       "2009-11     2009-11            316.0       206.0    17051.7253\n",
       "2009-12     2009-12            282.0       155.0    19438.5539\n",
       "2010-01     2010-01            403.0       212.0    28225.9376\n",
       "2010-02     2010-02            480.0       261.0    33390.5431\n",
       "2010-03     2010-03            155.0       130.0     9999.3306"
      ]
     },
     "execution_count": 31,
     "metadata": {},
     "output_type": "execute_result"
    }
   ],
   "source": [
    "udata.groupby(['CohortGroup','OrderPeriod'],sort=0).apply( lambda g: pd.Series({\\\n",
    "    'TotalOrders': g.OrderId.nunique(),\\\n",
    "    'TotalUsers': g.UserId.nunique(),\\\n",
    "    'TotalCharges': g.TotalCharges.sum(),\\\n",
    "    }))"
   ]
  },
  {
   "cell_type": "code",
   "execution_count": 32,
   "metadata": {},
   "outputs": [
    {
     "data": {
      "text/html": [
       "<div>\n",
       "<style scoped>\n",
       "    .dataframe tbody tr th:only-of-type {\n",
       "        vertical-align: middle;\n",
       "    }\n",
       "\n",
       "    .dataframe tbody tr th {\n",
       "        vertical-align: top;\n",
       "    }\n",
       "\n",
       "    .dataframe thead th {\n",
       "        text-align: right;\n",
       "    }\n",
       "</style>\n",
       "<table border=\"1\" class=\"dataframe\">\n",
       "  <thead>\n",
       "    <tr style=\"text-align: right;\">\n",
       "      <th></th>\n",
       "      <th>order_id</th>\n",
       "      <th>user_id</th>\n",
       "      <th>eval_set</th>\n",
       "      <th>order_number</th>\n",
       "      <th>order_dow</th>\n",
       "      <th>order_hour_of_day</th>\n",
       "      <th>days_since_prior_order</th>\n",
       "    </tr>\n",
       "  </thead>\n",
       "  <tbody>\n",
       "    <tr>\n",
       "      <td>0</td>\n",
       "      <td>2539329</td>\n",
       "      <td>1</td>\n",
       "      <td>prior</td>\n",
       "      <td>1</td>\n",
       "      <td>2</td>\n",
       "      <td>8</td>\n",
       "      <td>NaN</td>\n",
       "    </tr>\n",
       "    <tr>\n",
       "      <td>1</td>\n",
       "      <td>2398795</td>\n",
       "      <td>1</td>\n",
       "      <td>prior</td>\n",
       "      <td>2</td>\n",
       "      <td>3</td>\n",
       "      <td>7</td>\n",
       "      <td>15.0</td>\n",
       "    </tr>\n",
       "    <tr>\n",
       "      <td>2</td>\n",
       "      <td>473747</td>\n",
       "      <td>1</td>\n",
       "      <td>prior</td>\n",
       "      <td>3</td>\n",
       "      <td>3</td>\n",
       "      <td>12</td>\n",
       "      <td>21.0</td>\n",
       "    </tr>\n",
       "    <tr>\n",
       "      <td>3</td>\n",
       "      <td>2254736</td>\n",
       "      <td>1</td>\n",
       "      <td>prior</td>\n",
       "      <td>4</td>\n",
       "      <td>4</td>\n",
       "      <td>7</td>\n",
       "      <td>29.0</td>\n",
       "    </tr>\n",
       "    <tr>\n",
       "      <td>4</td>\n",
       "      <td>431534</td>\n",
       "      <td>1</td>\n",
       "      <td>prior</td>\n",
       "      <td>5</td>\n",
       "      <td>4</td>\n",
       "      <td>15</td>\n",
       "      <td>28.0</td>\n",
       "    </tr>\n",
       "    <tr>\n",
       "      <td>...</td>\n",
       "      <td>...</td>\n",
       "      <td>...</td>\n",
       "      <td>...</td>\n",
       "      <td>...</td>\n",
       "      <td>...</td>\n",
       "      <td>...</td>\n",
       "      <td>...</td>\n",
       "    </tr>\n",
       "    <tr>\n",
       "      <td>3421078</td>\n",
       "      <td>2266710</td>\n",
       "      <td>206209</td>\n",
       "      <td>prior</td>\n",
       "      <td>10</td>\n",
       "      <td>5</td>\n",
       "      <td>18</td>\n",
       "      <td>29.0</td>\n",
       "    </tr>\n",
       "    <tr>\n",
       "      <td>3421079</td>\n",
       "      <td>1854736</td>\n",
       "      <td>206209</td>\n",
       "      <td>prior</td>\n",
       "      <td>11</td>\n",
       "      <td>4</td>\n",
       "      <td>10</td>\n",
       "      <td>30.0</td>\n",
       "    </tr>\n",
       "    <tr>\n",
       "      <td>3421080</td>\n",
       "      <td>626363</td>\n",
       "      <td>206209</td>\n",
       "      <td>prior</td>\n",
       "      <td>12</td>\n",
       "      <td>1</td>\n",
       "      <td>12</td>\n",
       "      <td>18.0</td>\n",
       "    </tr>\n",
       "    <tr>\n",
       "      <td>3421081</td>\n",
       "      <td>2977660</td>\n",
       "      <td>206209</td>\n",
       "      <td>prior</td>\n",
       "      <td>13</td>\n",
       "      <td>1</td>\n",
       "      <td>12</td>\n",
       "      <td>7.0</td>\n",
       "    </tr>\n",
       "    <tr>\n",
       "      <td>3421082</td>\n",
       "      <td>272231</td>\n",
       "      <td>206209</td>\n",
       "      <td>train</td>\n",
       "      <td>14</td>\n",
       "      <td>6</td>\n",
       "      <td>14</td>\n",
       "      <td>30.0</td>\n",
       "    </tr>\n",
       "  </tbody>\n",
       "</table>\n",
       "<p>3421083 rows × 7 columns</p>\n",
       "</div>"
      ],
      "text/plain": [
       "         order_id  user_id eval_set  order_number  order_dow  \\\n",
       "0         2539329        1    prior             1          2   \n",
       "1         2398795        1    prior             2          3   \n",
       "2          473747        1    prior             3          3   \n",
       "3         2254736        1    prior             4          4   \n",
       "4          431534        1    prior             5          4   \n",
       "...           ...      ...      ...           ...        ...   \n",
       "3421078   2266710   206209    prior            10          5   \n",
       "3421079   1854736   206209    prior            11          4   \n",
       "3421080    626363   206209    prior            12          1   \n",
       "3421081   2977660   206209    prior            13          1   \n",
       "3421082    272231   206209    train            14          6   \n",
       "\n",
       "         order_hour_of_day  days_since_prior_order  \n",
       "0                        8                     NaN  \n",
       "1                        7                    15.0  \n",
       "2                       12                    21.0  \n",
       "3                        7                    29.0  \n",
       "4                       15                    28.0  \n",
       "...                    ...                     ...  \n",
       "3421078                 18                    29.0  \n",
       "3421079                 10                    30.0  \n",
       "3421080                 12                    18.0  \n",
       "3421081                 12                     7.0  \n",
       "3421082                 14                    30.0  \n",
       "\n",
       "[3421083 rows x 7 columns]"
      ]
     },
     "execution_count": 32,
     "metadata": {},
     "output_type": "execute_result"
    }
   ],
   "source": [
    "orders"
   ]
  },
  {
   "cell_type": "code",
   "execution_count": 33,
   "metadata": {
    "scrolled": true
   },
   "outputs": [
    {
     "data": {
      "text/plain": [
       "\"orders.groupby(['OrderId','UserId'],sort=0).apply( lambda g: pd.Series({    'TotalOrders': g.OrderNum.nunique(),    }))\""
      ]
     },
     "execution_count": 33,
     "metadata": {},
     "output_type": "execute_result"
    }
   ],
   "source": [
    "'''orders.groupby(['OrderId','UserId'],sort=0).apply( lambda g: pd.Series({\\\n",
    "    'TotalOrders': g.OrderNum.nunique(),\\\n",
    "    }))'''"
   ]
  },
  {
   "cell_type": "code",
   "execution_count": 35,
   "metadata": {},
   "outputs": [
    {
     "data": {
      "text/html": [
       "<div>\n",
       "<style scoped>\n",
       "    .dataframe tbody tr th:only-of-type {\n",
       "        vertical-align: middle;\n",
       "    }\n",
       "\n",
       "    .dataframe tbody tr th {\n",
       "        vertical-align: top;\n",
       "    }\n",
       "\n",
       "    .dataframe thead th {\n",
       "        text-align: right;\n",
       "    }\n",
       "</style>\n",
       "<table border=\"1\" class=\"dataframe\">\n",
       "  <thead>\n",
       "    <tr style=\"text-align: right;\">\n",
       "      <th></th>\n",
       "      <th>TotalOrders</th>\n",
       "      <th>Total</th>\n",
       "    </tr>\n",
       "    <tr>\n",
       "      <th>eval_set</th>\n",
       "      <th></th>\n",
       "      <th></th>\n",
       "    </tr>\n",
       "  </thead>\n",
       "  <tbody>\n",
       "    <tr>\n",
       "      <td>prior</td>\n",
       "      <td>99</td>\n",
       "      <td>7</td>\n",
       "    </tr>\n",
       "    <tr>\n",
       "      <td>train</td>\n",
       "      <td>97</td>\n",
       "      <td>7</td>\n",
       "    </tr>\n",
       "    <tr>\n",
       "      <td>test</td>\n",
       "      <td>97</td>\n",
       "      <td>7</td>\n",
       "    </tr>\n",
       "  </tbody>\n",
       "</table>\n",
       "</div>"
      ],
      "text/plain": [
       "          TotalOrders  Total\n",
       "eval_set                    \n",
       "prior              99      7\n",
       "train              97      7\n",
       "test               97      7"
      ]
     },
     "execution_count": 35,
     "metadata": {},
     "output_type": "execute_result"
    }
   ],
   "source": [
    "orders.groupby(['eval_set'],sort=0).apply( lambda g: pd.Series({\\\n",
    "    'TotalOrders': g.order_number.nunique(),\\\n",
    "    'Total': g.order_dow.nunique(),\\\n",
    "    }))"
   ]
  },
  {
   "cell_type": "markdown",
   "metadata": {},
   "source": [
    "\n",
    "## When do people order?"
   ]
  },
  {
   "cell_type": "markdown",
   "metadata": {},
   "source": [
    "### Hour of Day"
   ]
  },
  {
   "cell_type": "code",
   "execution_count": 36,
   "metadata": {},
   "outputs": [
    {
     "data": {
      "text/plain": [
       "0           8\n",
       "1           7\n",
       "2          12\n",
       "3           7\n",
       "4          15\n",
       "           ..\n",
       "3421078    18\n",
       "3421079    10\n",
       "3421080    12\n",
       "3421081    12\n",
       "3421082    14\n",
       "Name: order_hour_of_day, Length: 3421083, dtype: int64"
      ]
     },
     "execution_count": 36,
     "metadata": {},
     "output_type": "execute_result"
    }
   ],
   "source": [
    "orders['order_hour_of_day']"
   ]
  },
  {
   "cell_type": "code",
   "execution_count": 37,
   "metadata": {
    "scrolled": true
   },
   "outputs": [
    {
     "data": {
      "image/png": "[encoded data removed]",
      "text/plain": [
       "<matplotlib.figure.Figure at 0x124bcbfd0>"
      ]
     },
     "metadata": {},
     "output_type": "display_data"
    }
   ],
   "source": [
    "#count, bin_edges = np.histogram(orders['order_hour_of_day'])\n",
    "orders['order_hour_of_day'].plot(kind='hist',figsize=(8, 5),bins=24, rwidth=0.90) # bins=24 means 24 bins; rwidth adjusts the width of bars to leave spaces between bars\n",
    "\n",
    "plt.title('Histogram of Orders from Each Hour of A Day') # add a title to the histogram\n",
    "plt.ylabel('Count') # add y-label\n",
    "plt.xlabel('Hour of Day') # add x-label\n",
    "\n",
    "plt.show()"
   ]
  },
  {
   "cell_type": "markdown",
   "metadata": {},
   "source": [
    "### Insights: There is a clear effect of hour of the day. Most orders were placed between 10AM-4PM."
   ]
  },
  {
   "cell_type": "markdown",
   "metadata": {
    "collapsed": true
   },
   "source": [
    "### Day of Week"
   ]
  },
  {
   "cell_type": "code",
   "execution_count": 38,
   "metadata": {},
   "outputs": [
    {
     "data": {
      "image/png": "[encoded data removed]",
      "text/plain": [
       "<matplotlib.figure.Figure at 0x110c07f98>"
      ]
     },
     "metadata": {},
     "output_type": "display_data"
    }
   ],
   "source": [
    "orders['order_dow'].plot(kind='hist',figsize=(8, 5),bins=7, rwidth=0.90) # bins=7 means 7 bins; rwidth adjusts the width of bars to leave spaces between bars\n",
    "\n",
    "plt.title('Histogram of Orders from Each Day of A Week') # add a title to the histogram\n",
    "plt.ylabel('Count') # add y-label\n",
    "plt.xlabel('Day of Week') # add x-label\n",
    "\n",
    "plt.show()"
   ]
  },
  {
   "cell_type": "markdown",
   "metadata": {},
   "source": [
    "### Insights: There is a clear effect of day of the week. Most orders were placed on day 0 and 1. We can assume day 0 and 1 are weekend."
   ]
  },
  {
   "cell_type": "markdown",
   "metadata": {},
   "source": [
    "## When do they order again?"
   ]
  },
  {
   "cell_type": "code",
   "execution_count": 39,
   "metadata": {},
   "outputs": [
    {
     "data": {
      "text/plain": [
       "30.0"
      ]
     },
     "execution_count": 39,
     "metadata": {},
     "output_type": "execute_result"
    }
   ],
   "source": [
    "orders['days_since_prior_order'].max()"
   ]
  },
  {
   "cell_type": "code",
   "execution_count": 40,
   "metadata": {},
   "outputs": [
    {
     "data": {
      "image/png": "[encoded data removed]",
      "text/plain": [
       "<matplotlib.figure.Figure at 0x110ea2208>"
      ]
     },
     "metadata": {},
     "output_type": "display_data"
    }
   ],
   "source": [
    "orders['days_since_prior_order'].plot(kind='hist',figsize=(8, 5),bins=30, rwidth=0.90) # bins=30 means 30 bins; rwidth adjusts the width of bars to leave spaces between bars\n",
    "\n",
    "plt.title('Histogram of Days Since Prior Order') # add a title to the histogram\n",
    "plt.ylabel('Count') # add y-label\n",
    "plt.xlabel('Days Since Prior Order') # add x-label\n",
    "\n",
    "plt.show()"
   ]
  },
  {
   "cell_type": "markdown",
   "metadata": {},
   "source": [
    "### Insights: People order more often within 1 week of the piro order date. Saw two jump-up on the 7th day and 30th day "
   ]
  },
  {
   "cell_type": "markdown",
   "metadata": {},
   "source": [
    "## How many orders do you place each time?"
   ]
  },
  {
   "cell_type": "code",
   "execution_count": 41,
   "metadata": {},
   "outputs": [
    {
     "data": {
      "text/plain": [
       "100"
      ]
     },
     "execution_count": 41,
     "metadata": {},
     "output_type": "execute_result"
    }
   ],
   "source": [
    "orders['order_number'].max()"
   ]
  },
  {
   "cell_type": "code",
   "execution_count": 42,
   "metadata": {},
   "outputs": [
    {
     "data": {
      "image/png": "[encoded data removed]",
      "text/plain": [
       "<matplotlib.figure.Figure at 0x1170f35f8>"
      ]
     },
     "metadata": {},
     "output_type": "display_data"
    }
   ],
   "source": [
    "orders['order_number'].plot(kind='hist',figsize=(8, 5),bins=100,rwidth=0.75 ) # bins=100 means 100 bins; rwidth adjusts the width of bars to leave spaces between bars\n",
    "\n",
    "plt.title('Histogram of Order Number') # add a title to the histogram\n",
    "plt.ylabel('Count') # add y-label\n",
    "plt.xlabel('Order Number') # add x-label\n",
    "\n",
    "plt.show()"
   ]
  },
  {
   "cell_type": "markdown",
   "metadata": {},
   "source": [
    "### Insights: People tend to place 1-10 orders most of the time they buy"
   ]
  },
  {
   "cell_type": "markdown",
   "metadata": {},
   "source": [
    "## How many items does each order id buy?"
   ]
  },
  {
   "cell_type": "markdown",
   "metadata": {},
   "source": [
    "Let’s have a look how many items are in the orders. The distributions are comparable between the train and prior order set."
   ]
  },
  {
   "cell_type": "code",
   "execution_count": 44,
   "metadata": {},
   "outputs": [
    {
     "data": {
      "text/html": [
       "<div>\n",
       "<style scoped>\n",
       "    .dataframe tbody tr th:only-of-type {\n",
       "        vertical-align: middle;\n",
       "    }\n",
       "\n",
       "    .dataframe tbody tr th {\n",
       "        vertical-align: top;\n",
       "    }\n",
       "\n",
       "    .dataframe thead th {\n",
       "        text-align: right;\n",
       "    }\n",
       "</style>\n",
       "<table border=\"1\" class=\"dataframe\">\n",
       "  <thead>\n",
       "    <tr style=\"text-align: right;\">\n",
       "      <th></th>\n",
       "      <th>order_id</th>\n",
       "      <th>product_id</th>\n",
       "      <th>add_to_cart_order</th>\n",
       "      <th>reordered</th>\n",
       "    </tr>\n",
       "  </thead>\n",
       "  <tbody>\n",
       "    <tr>\n",
       "      <td>0</td>\n",
       "      <td>2</td>\n",
       "      <td>33120</td>\n",
       "      <td>1</td>\n",
       "      <td>1</td>\n",
       "    </tr>\n",
       "    <tr>\n",
       "      <td>1</td>\n",
       "      <td>2</td>\n",
       "      <td>28985</td>\n",
       "      <td>2</td>\n",
       "      <td>1</td>\n",
       "    </tr>\n",
       "    <tr>\n",
       "      <td>2</td>\n",
       "      <td>2</td>\n",
       "      <td>9327</td>\n",
       "      <td>3</td>\n",
       "      <td>0</td>\n",
       "    </tr>\n",
       "    <tr>\n",
       "      <td>3</td>\n",
       "      <td>2</td>\n",
       "      <td>45918</td>\n",
       "      <td>4</td>\n",
       "      <td>1</td>\n",
       "    </tr>\n",
       "    <tr>\n",
       "      <td>4</td>\n",
       "      <td>2</td>\n",
       "      <td>30035</td>\n",
       "      <td>5</td>\n",
       "      <td>0</td>\n",
       "    </tr>\n",
       "    <tr>\n",
       "      <td>...</td>\n",
       "      <td>...</td>\n",
       "      <td>...</td>\n",
       "      <td>...</td>\n",
       "      <td>...</td>\n",
       "    </tr>\n",
       "    <tr>\n",
       "      <td>32434484</td>\n",
       "      <td>3421083</td>\n",
       "      <td>39678</td>\n",
       "      <td>6</td>\n",
       "      <td>1</td>\n",
       "    </tr>\n",
       "    <tr>\n",
       "      <td>32434485</td>\n",
       "      <td>3421083</td>\n",
       "      <td>11352</td>\n",
       "      <td>7</td>\n",
       "      <td>0</td>\n",
       "    </tr>\n",
       "    <tr>\n",
       "      <td>32434486</td>\n",
       "      <td>3421083</td>\n",
       "      <td>4600</td>\n",
       "      <td>8</td>\n",
       "      <td>0</td>\n",
       "    </tr>\n",
       "    <tr>\n",
       "      <td>32434487</td>\n",
       "      <td>3421083</td>\n",
       "      <td>24852</td>\n",
       "      <td>9</td>\n",
       "      <td>1</td>\n",
       "    </tr>\n",
       "    <tr>\n",
       "      <td>32434488</td>\n",
       "      <td>3421083</td>\n",
       "      <td>5020</td>\n",
       "      <td>10</td>\n",
       "      <td>1</td>\n",
       "    </tr>\n",
       "  </tbody>\n",
       "</table>\n",
       "<p>32434489 rows × 4 columns</p>\n",
       "</div>"
      ],
      "text/plain": [
       "          order_id  product_id  add_to_cart_order  reordered\n",
       "0                2       33120                  1          1\n",
       "1                2       28985                  2          1\n",
       "2                2        9327                  3          0\n",
       "3                2       45918                  4          1\n",
       "4                2       30035                  5          0\n",
       "...            ...         ...                ...        ...\n",
       "32434484   3421083       39678                  6          1\n",
       "32434485   3421083       11352                  7          0\n",
       "32434486   3421083        4600                  8          0\n",
       "32434487   3421083       24852                  9          1\n",
       "32434488   3421083        5020                 10          1\n",
       "\n",
       "[32434489 rows x 4 columns]"
      ]
     },
     "execution_count": 44,
     "metadata": {},
     "output_type": "execute_result"
    }
   ],
   "source": [
    "order_products_prior"
   ]
  },
  {
   "cell_type": "code",
   "execution_count": 47,
   "metadata": {
    "collapsed": true
   },
   "outputs": [],
   "source": [
    "# Group by add_to_cart_order for prior set\n",
    "order_id_cnt = order_products_prior.groupby(['order_id']).apply(lambda g: pd.Series({\\\n",
    "    'Item_number':g.add_to_cart_order.max(),\\\n",
    "}))"
   ]
  },
  {
   "cell_type": "code",
   "execution_count": 48,
   "metadata": {},
   "outputs": [
    {
     "data": {
      "text/html": [
       "<div>\n",
       "<style scoped>\n",
       "    .dataframe tbody tr th:only-of-type {\n",
       "        vertical-align: middle;\n",
       "    }\n",
       "\n",
       "    .dataframe tbody tr th {\n",
       "        vertical-align: top;\n",
       "    }\n",
       "\n",
       "    .dataframe thead th {\n",
       "        text-align: right;\n",
       "    }\n",
       "</style>\n",
       "<table border=\"1\" class=\"dataframe\">\n",
       "  <thead>\n",
       "    <tr style=\"text-align: right;\">\n",
       "      <th></th>\n",
       "      <th>Item_number</th>\n",
       "    </tr>\n",
       "    <tr>\n",
       "      <th>order_id</th>\n",
       "      <th></th>\n",
       "    </tr>\n",
       "  </thead>\n",
       "  <tbody>\n",
       "    <tr>\n",
       "      <td>2</td>\n",
       "      <td>9</td>\n",
       "    </tr>\n",
       "    <tr>\n",
       "      <td>3</td>\n",
       "      <td>8</td>\n",
       "    </tr>\n",
       "    <tr>\n",
       "      <td>4</td>\n",
       "      <td>13</td>\n",
       "    </tr>\n",
       "    <tr>\n",
       "      <td>5</td>\n",
       "      <td>26</td>\n",
       "    </tr>\n",
       "    <tr>\n",
       "      <td>6</td>\n",
       "      <td>3</td>\n",
       "    </tr>\n",
       "    <tr>\n",
       "      <td>...</td>\n",
       "      <td>...</td>\n",
       "    </tr>\n",
       "    <tr>\n",
       "      <td>3421079</td>\n",
       "      <td>1</td>\n",
       "    </tr>\n",
       "    <tr>\n",
       "      <td>3421080</td>\n",
       "      <td>9</td>\n",
       "    </tr>\n",
       "    <tr>\n",
       "      <td>3421081</td>\n",
       "      <td>7</td>\n",
       "    </tr>\n",
       "    <tr>\n",
       "      <td>3421082</td>\n",
       "      <td>7</td>\n",
       "    </tr>\n",
       "    <tr>\n",
       "      <td>3421083</td>\n",
       "      <td>10</td>\n",
       "    </tr>\n",
       "  </tbody>\n",
       "</table>\n",
       "<p>3214874 rows × 1 columns</p>\n",
       "</div>"
      ],
      "text/plain": [
       "          Item_number\n",
       "order_id             \n",
       "2                   9\n",
       "3                   8\n",
       "4                  13\n",
       "5                  26\n",
       "6                   3\n",
       "...               ...\n",
       "3421079             1\n",
       "3421080             9\n",
       "3421081             7\n",
       "3421082             7\n",
       "3421083            10\n",
       "\n",
       "[3214874 rows x 1 columns]"
      ]
     },
     "execution_count": 48,
     "metadata": {},
     "output_type": "execute_result"
    }
   ],
   "source": [
    "order_id_cnt"
   ]
  },
  {
   "cell_type": "code",
   "execution_count": 50,
   "metadata": {},
   "outputs": [
    {
     "data": {
      "text/plain": [
       "145"
      ]
     },
     "execution_count": 50,
     "metadata": {},
     "output_type": "execute_result"
    }
   ],
   "source": [
    "order_id_cnt['Item_number'].max()"
   ]
  },
  {
   "cell_type": "code",
   "execution_count": 56,
   "metadata": {},
   "outputs": [
    {
     "data": {
      "image/png": "[encoded data removed]",
      "text/plain": [
       "<matplotlib.figure.Figure at 0x5a385e0b8>"
      ]
     },
     "metadata": {},
     "output_type": "display_data"
    }
   ],
   "source": [
    "# Plot the histogram of order items for prior set\n",
    "order_id_cnt['Item_number'].plot(kind='hist',figsize=(8, 5),bins=145, rwidth=0.75 ) # bins=100 means 100 bins; rwidth adjusts the width of bars to leave spaces between bars\n",
    "\n",
    "plt.xlim(xmin=0, xmax = 80) # xmax limts the x range\n",
    "plt.title('Histogram of Item Numbers') # add a title to the histogram\n",
    "plt.ylabel('Count') # add y-label\n",
    "plt.xlabel('Item Number') # add x-label\n",
    "\n",
    "plt.show()"
   ]
  },
  {
   "cell_type": "code",
   "execution_count": 58,
   "metadata": {
    "collapsed": true
   },
   "outputs": [],
   "source": [
    "# Group by add_to_cart_order for train set\n",
    "order_id_cnt_tn = order_products_train.groupby(['order_id']).apply(lambda g: pd.Series({\\\n",
    "    'Item_number':g.add_to_cart_order.max(),\\\n",
    "}))"
   ]
  },
  {
   "cell_type": "code",
   "execution_count": 61,
   "metadata": {},
   "outputs": [
    {
     "data": {
      "text/plain": [
       "Item_number    80\n",
       "dtype: int64"
      ]
     },
     "execution_count": 61,
     "metadata": {},
     "output_type": "execute_result"
    }
   ],
   "source": [
    "order_id_cnt_tn.max()"
   ]
  },
  {
   "cell_type": "code",
   "execution_count": 62,
   "metadata": {},
   "outputs": [
    {
     "data": {
      "image/png": "[encoded data removed]",
      "text/plain": [
       "<matplotlib.figure.Figure at 0x12486aa90>"
      ]
     },
     "metadata": {},
     "output_type": "display_data"
    }
   ],
   "source": [
    "# Plot the histogram of order items for train set\n",
    "order_id_cnt_tn['Item_number'].plot(kind='hist',figsize=(8, 5),bins=80, rwidth=0.75 ) # bins=100 means 100 bins; rwidth adjusts the width of bars to leave spaces between bars\n",
    "\n",
    "#plt.xlim(xmin=0, xmax = 80) # xmax limts the x range\n",
    "plt.title('Histogram of Item Numbers') # add a title to the histogram\n",
    "plt.ylabel('Count') # add y-label\n",
    "plt.xlabel('Item Number') # add x-label\n",
    "\n",
    "plt.show()"
   ]
  },
  {
   "cell_type": "markdown",
   "metadata": {},
   "source": [
    "## Bestsellers"
   ]
  },
  {
   "cell_type": "markdown",
   "metadata": {},
   "source": [
    "Let’s have a look which products are sold most often (top10). And the clear winner is: Bananas"
   ]
  },
  {
   "cell_type": "code",
   "execution_count": 81,
   "metadata": {
    "collapsed": true
   },
   "outputs": [],
   "source": [
    "# First, concat the records of order_products_prior with order_products_train\n",
    "orders_products = pd.concat([order_products_prior, order_products_train], ignore_index=True, sort=False)"
   ]
  },
  {
   "cell_type": "code",
   "execution_count": 71,
   "metadata": {},
   "outputs": [
    {
     "data": {
      "text/html": [
       "<div>\n",
       "<style scoped>\n",
       "    .dataframe tbody tr th:only-of-type {\n",
       "        vertical-align: middle;\n",
       "    }\n",
       "\n",
       "    .dataframe tbody tr th {\n",
       "        vertical-align: top;\n",
       "    }\n",
       "\n",
       "    .dataframe thead th {\n",
       "        text-align: right;\n",
       "    }\n",
       "</style>\n",
       "<table border=\"1\" class=\"dataframe\">\n",
       "  <thead>\n",
       "    <tr style=\"text-align: right;\">\n",
       "      <th></th>\n",
       "      <th>order_id</th>\n",
       "      <th>product_id</th>\n",
       "      <th>add_to_cart_order</th>\n",
       "      <th>reordered</th>\n",
       "    </tr>\n",
       "  </thead>\n",
       "  <tbody>\n",
       "    <tr>\n",
       "      <td>0</td>\n",
       "      <td>2</td>\n",
       "      <td>33120</td>\n",
       "      <td>1</td>\n",
       "      <td>1</td>\n",
       "    </tr>\n",
       "    <tr>\n",
       "      <td>237</td>\n",
       "      <td>26</td>\n",
       "      <td>33120</td>\n",
       "      <td>5</td>\n",
       "      <td>0</td>\n",
       "    </tr>\n",
       "    <tr>\n",
       "      <td>1084</td>\n",
       "      <td>120</td>\n",
       "      <td>33120</td>\n",
       "      <td>13</td>\n",
       "      <td>0</td>\n",
       "    </tr>\n",
       "    <tr>\n",
       "      <td>3039</td>\n",
       "      <td>327</td>\n",
       "      <td>33120</td>\n",
       "      <td>5</td>\n",
       "      <td>1</td>\n",
       "    </tr>\n",
       "    <tr>\n",
       "      <td>3709</td>\n",
       "      <td>390</td>\n",
       "      <td>33120</td>\n",
       "      <td>28</td>\n",
       "      <td>1</td>\n",
       "    </tr>\n",
       "    <tr>\n",
       "      <td>...</td>\n",
       "      <td>...</td>\n",
       "      <td>...</td>\n",
       "      <td>...</td>\n",
       "      <td>...</td>\n",
       "    </tr>\n",
       "    <tr>\n",
       "      <td>32426668</td>\n",
       "      <td>3420280</td>\n",
       "      <td>33120</td>\n",
       "      <td>6</td>\n",
       "      <td>1</td>\n",
       "    </tr>\n",
       "    <tr>\n",
       "      <td>32427659</td>\n",
       "      <td>3420373</td>\n",
       "      <td>33120</td>\n",
       "      <td>11</td>\n",
       "      <td>0</td>\n",
       "    </tr>\n",
       "    <tr>\n",
       "      <td>32429809</td>\n",
       "      <td>3420587</td>\n",
       "      <td>33120</td>\n",
       "      <td>1</td>\n",
       "      <td>1</td>\n",
       "    </tr>\n",
       "    <tr>\n",
       "      <td>32430947</td>\n",
       "      <td>3420711</td>\n",
       "      <td>33120</td>\n",
       "      <td>8</td>\n",
       "      <td>0</td>\n",
       "    </tr>\n",
       "    <tr>\n",
       "      <td>32431610</td>\n",
       "      <td>3420775</td>\n",
       "      <td>33120</td>\n",
       "      <td>5</td>\n",
       "      <td>0</td>\n",
       "    </tr>\n",
       "  </tbody>\n",
       "</table>\n",
       "<p>19400 rows × 4 columns</p>\n",
       "</div>"
      ],
      "text/plain": [
       "          order_id  product_id  add_to_cart_order  reordered\n",
       "0                2       33120                  1          1\n",
       "237             26       33120                  5          0\n",
       "1084           120       33120                 13          0\n",
       "3039           327       33120                  5          1\n",
       "3709           390       33120                 28          1\n",
       "...            ...         ...                ...        ...\n",
       "32426668   3420280       33120                  6          1\n",
       "32427659   3420373       33120                 11          0\n",
       "32429809   3420587       33120                  1          1\n",
       "32430947   3420711       33120                  8          0\n",
       "32431610   3420775       33120                  5          0\n",
       "\n",
       "[19400 rows x 4 columns]"
      ]
     },
     "execution_count": 71,
     "metadata": {},
     "output_type": "execute_result"
    }
   ],
   "source": [
    "order_products_prior[order_products_prior['product_id']==33120]"
   ]
  },
  {
   "cell_type": "code",
   "execution_count": 92,
   "metadata": {},
   "outputs": [],
   "source": [
    "# Group by prodcut_id \n",
    "product_id_cnt=orders_products.groupby('product_id').apply(lambda g: pd.Series({\\\n",
    "    'Count':g.product_id.count(),\\\n",
    "})).reset_index()"
   ]
  },
  {
   "cell_type": "code",
   "execution_count": 93,
   "metadata": {},
   "outputs": [
    {
     "data": {
      "text/html": [
       "<div>\n",
       "<style scoped>\n",
       "    .dataframe tbody tr th:only-of-type {\n",
       "        vertical-align: middle;\n",
       "    }\n",
       "\n",
       "    .dataframe tbody tr th {\n",
       "        vertical-align: top;\n",
       "    }\n",
       "\n",
       "    .dataframe thead th {\n",
       "        text-align: right;\n",
       "    }\n",
       "</style>\n",
       "<table border=\"1\" class=\"dataframe\">\n",
       "  <thead>\n",
       "    <tr style=\"text-align: right;\">\n",
       "      <th></th>\n",
       "      <th>product_id</th>\n",
       "      <th>Count</th>\n",
       "    </tr>\n",
       "  </thead>\n",
       "  <tbody>\n",
       "    <tr>\n",
       "      <td>0</td>\n",
       "      <td>1</td>\n",
       "      <td>1928</td>\n",
       "    </tr>\n",
       "    <tr>\n",
       "      <td>1</td>\n",
       "      <td>2</td>\n",
       "      <td>94</td>\n",
       "    </tr>\n",
       "    <tr>\n",
       "      <td>2</td>\n",
       "      <td>3</td>\n",
       "      <td>283</td>\n",
       "    </tr>\n",
       "    <tr>\n",
       "      <td>3</td>\n",
       "      <td>4</td>\n",
       "      <td>351</td>\n",
       "    </tr>\n",
       "    <tr>\n",
       "      <td>4</td>\n",
       "      <td>5</td>\n",
       "      <td>16</td>\n",
       "    </tr>\n",
       "    <tr>\n",
       "      <td>...</td>\n",
       "      <td>...</td>\n",
       "      <td>...</td>\n",
       "    </tr>\n",
       "    <tr>\n",
       "      <td>49680</td>\n",
       "      <td>49684</td>\n",
       "      <td>9</td>\n",
       "    </tr>\n",
       "    <tr>\n",
       "      <td>49681</td>\n",
       "      <td>49685</td>\n",
       "      <td>49</td>\n",
       "    </tr>\n",
       "    <tr>\n",
       "      <td>49682</td>\n",
       "      <td>49686</td>\n",
       "      <td>127</td>\n",
       "    </tr>\n",
       "    <tr>\n",
       "      <td>49683</td>\n",
       "      <td>49687</td>\n",
       "      <td>14</td>\n",
       "    </tr>\n",
       "    <tr>\n",
       "      <td>49684</td>\n",
       "      <td>49688</td>\n",
       "      <td>93</td>\n",
       "    </tr>\n",
       "  </tbody>\n",
       "</table>\n",
       "<p>49685 rows × 2 columns</p>\n",
       "</div>"
      ],
      "text/plain": [
       "       product_id  Count\n",
       "0               1   1928\n",
       "1               2     94\n",
       "2               3    283\n",
       "3               4    351\n",
       "4               5     16\n",
       "...           ...    ...\n",
       "49680       49684      9\n",
       "49681       49685     49\n",
       "49682       49686    127\n",
       "49683       49687     14\n",
       "49684       49688     93\n",
       "\n",
       "[49685 rows x 2 columns]"
      ]
     },
     "execution_count": 93,
     "metadata": {},
     "output_type": "execute_result"
    }
   ],
   "source": [
    "product_id_cnt"
   ]
  },
  {
   "cell_type": "code",
   "execution_count": 95,
   "metadata": {
    "collapsed": true
   },
   "outputs": [],
   "source": [
    "# Merge product_id_cnt with products\n",
    "product_cnt = pd.merge(product_id_cnt, products, how='left', on='product_id', validate = '1:1') # validate = '1:1' means check if merge keys are unique in both left and right datasets. if not unique in any side, an error will be returned."
   ]
  },
  {
   "cell_type": "code",
   "execution_count": 98,
   "metadata": {},
   "outputs": [
    {
     "data": {
      "text/html": [
       "<div>\n",
       "<style scoped>\n",
       "    .dataframe tbody tr th:only-of-type {\n",
       "        vertical-align: middle;\n",
       "    }\n",
       "\n",
       "    .dataframe tbody tr th {\n",
       "        vertical-align: top;\n",
       "    }\n",
       "\n",
       "    .dataframe thead th {\n",
       "        text-align: right;\n",
       "    }\n",
       "</style>\n",
       "<table border=\"1\" class=\"dataframe\">\n",
       "  <thead>\n",
       "    <tr style=\"text-align: right;\">\n",
       "      <th></th>\n",
       "      <th>product_id</th>\n",
       "      <th>Count</th>\n",
       "      <th>product_name</th>\n",
       "      <th>aisle_id</th>\n",
       "      <th>department_id</th>\n",
       "    </tr>\n",
       "  </thead>\n",
       "  <tbody>\n",
       "    <tr>\n",
       "      <td>0</td>\n",
       "      <td>1</td>\n",
       "      <td>1928</td>\n",
       "      <td>Chocolate Sandwich Cookies</td>\n",
       "      <td>61</td>\n",
       "      <td>19</td>\n",
       "    </tr>\n",
       "    <tr>\n",
       "      <td>1</td>\n",
       "      <td>2</td>\n",
       "      <td>94</td>\n",
       "      <td>All-Seasons Salt</td>\n",
       "      <td>104</td>\n",
       "      <td>13</td>\n",
       "    </tr>\n",
       "    <tr>\n",
       "      <td>2</td>\n",
       "      <td>3</td>\n",
       "      <td>283</td>\n",
       "      <td>Robust Golden Unsweetened Oolong Tea</td>\n",
       "      <td>94</td>\n",
       "      <td>7</td>\n",
       "    </tr>\n",
       "    <tr>\n",
       "      <td>3</td>\n",
       "      <td>4</td>\n",
       "      <td>351</td>\n",
       "      <td>Smart Ones Classic Favorites Mini Rigatoni Wit...</td>\n",
       "      <td>38</td>\n",
       "      <td>1</td>\n",
       "    </tr>\n",
       "    <tr>\n",
       "      <td>4</td>\n",
       "      <td>5</td>\n",
       "      <td>16</td>\n",
       "      <td>Green Chile Anytime Sauce</td>\n",
       "      <td>5</td>\n",
       "      <td>13</td>\n",
       "    </tr>\n",
       "    <tr>\n",
       "      <td>...</td>\n",
       "      <td>...</td>\n",
       "      <td>...</td>\n",
       "      <td>...</td>\n",
       "      <td>...</td>\n",
       "      <td>...</td>\n",
       "    </tr>\n",
       "    <tr>\n",
       "      <td>49680</td>\n",
       "      <td>49684</td>\n",
       "      <td>9</td>\n",
       "      <td>Vodka, Triple Distilled, Twist of Vanilla</td>\n",
       "      <td>124</td>\n",
       "      <td>5</td>\n",
       "    </tr>\n",
       "    <tr>\n",
       "      <td>49681</td>\n",
       "      <td>49685</td>\n",
       "      <td>49</td>\n",
       "      <td>En Croute Roast Hazelnut Cranberry</td>\n",
       "      <td>42</td>\n",
       "      <td>1</td>\n",
       "    </tr>\n",
       "    <tr>\n",
       "      <td>49682</td>\n",
       "      <td>49686</td>\n",
       "      <td>127</td>\n",
       "      <td>Artisan Baguette</td>\n",
       "      <td>112</td>\n",
       "      <td>3</td>\n",
       "    </tr>\n",
       "    <tr>\n",
       "      <td>49683</td>\n",
       "      <td>49687</td>\n",
       "      <td>14</td>\n",
       "      <td>Smartblend Healthy Metabolism Dry Cat Food</td>\n",
       "      <td>41</td>\n",
       "      <td>8</td>\n",
       "    </tr>\n",
       "    <tr>\n",
       "      <td>49684</td>\n",
       "      <td>49688</td>\n",
       "      <td>93</td>\n",
       "      <td>Fresh Foaming Cleanser</td>\n",
       "      <td>73</td>\n",
       "      <td>11</td>\n",
       "    </tr>\n",
       "  </tbody>\n",
       "</table>\n",
       "<p>49685 rows × 5 columns</p>\n",
       "</div>"
      ],
      "text/plain": [
       "       product_id  Count                                       product_name  \\\n",
       "0               1   1928                         Chocolate Sandwich Cookies   \n",
       "1               2     94                                   All-Seasons Salt   \n",
       "2               3    283               Robust Golden Unsweetened Oolong Tea   \n",
       "3               4    351  Smart Ones Classic Favorites Mini Rigatoni Wit...   \n",
       "4               5     16                          Green Chile Anytime Sauce   \n",
       "...           ...    ...                                                ...   \n",
       "49680       49684      9          Vodka, Triple Distilled, Twist of Vanilla   \n",
       "49681       49685     49                 En Croute Roast Hazelnut Cranberry   \n",
       "49682       49686    127                                   Artisan Baguette   \n",
       "49683       49687     14         Smartblend Healthy Metabolism Dry Cat Food   \n",
       "49684       49688     93                             Fresh Foaming Cleanser   \n",
       "\n",
       "       aisle_id  department_id  \n",
       "0            61             19  \n",
       "1           104             13  \n",
       "2            94              7  \n",
       "3            38              1  \n",
       "4             5             13  \n",
       "...         ...            ...  \n",
       "49680       124              5  \n",
       "49681        42              1  \n",
       "49682       112              3  \n",
       "49683        41              8  \n",
       "49684        73             11  \n",
       "\n",
       "[49685 rows x 5 columns]"
      ]
     },
     "execution_count": 98,
     "metadata": {},
     "output_type": "execute_result"
    }
   ],
   "source": [
    "product_cnt"
   ]
  },
  {
   "cell_type": "code",
   "execution_count": 107,
   "metadata": {
    "collapsed": true
   },
   "outputs": [],
   "source": [
    "# Return the top 10 products by sales\n",
    "product_top_10 = product_cnt.sort_values(by='Count', ascending=False)[['product_name','Count']][:10]"
   ]
  },
  {
   "cell_type": "code",
   "execution_count": 108,
   "metadata": {},
   "outputs": [],
   "source": [
    "# Set product_name as index\n",
    "product_top_10.set_index('product_name', inplace=True)"
   ]
  },
  {
   "cell_type": "code",
   "execution_count": 109,
   "metadata": {},
   "outputs": [
    {
     "data": {
      "text/html": [
       "<div>\n",
       "<style scoped>\n",
       "    .dataframe tbody tr th:only-of-type {\n",
       "        vertical-align: middle;\n",
       "    }\n",
       "\n",
       "    .dataframe tbody tr th {\n",
       "        vertical-align: top;\n",
       "    }\n",
       "\n",
       "    .dataframe thead th {\n",
       "        text-align: right;\n",
       "    }\n",
       "</style>\n",
       "<table border=\"1\" class=\"dataframe\">\n",
       "  <thead>\n",
       "    <tr style=\"text-align: right;\">\n",
       "      <th></th>\n",
       "      <th>Count</th>\n",
       "    </tr>\n",
       "    <tr>\n",
       "      <th>product_name</th>\n",
       "      <th></th>\n",
       "    </tr>\n",
       "  </thead>\n",
       "  <tbody>\n",
       "    <tr>\n",
       "      <td>Banana</td>\n",
       "      <td>491291</td>\n",
       "    </tr>\n",
       "    <tr>\n",
       "      <td>Bag of Organic Bananas</td>\n",
       "      <td>394930</td>\n",
       "    </tr>\n",
       "    <tr>\n",
       "      <td>Organic Strawberries</td>\n",
       "      <td>275577</td>\n",
       "    </tr>\n",
       "    <tr>\n",
       "      <td>Organic Baby Spinach</td>\n",
       "      <td>251705</td>\n",
       "    </tr>\n",
       "    <tr>\n",
       "      <td>Organic Hass Avocado</td>\n",
       "      <td>220877</td>\n",
       "    </tr>\n",
       "    <tr>\n",
       "      <td>Organic Avocado</td>\n",
       "      <td>184224</td>\n",
       "    </tr>\n",
       "    <tr>\n",
       "      <td>Large Lemon</td>\n",
       "      <td>160792</td>\n",
       "    </tr>\n",
       "    <tr>\n",
       "      <td>Strawberries</td>\n",
       "      <td>149445</td>\n",
       "    </tr>\n",
       "    <tr>\n",
       "      <td>Limes</td>\n",
       "      <td>146660</td>\n",
       "    </tr>\n",
       "    <tr>\n",
       "      <td>Organic Whole Milk</td>\n",
       "      <td>142813</td>\n",
       "    </tr>\n",
       "  </tbody>\n",
       "</table>\n",
       "</div>"
      ],
      "text/plain": [
       "                         Count\n",
       "product_name                  \n",
       "Banana                  491291\n",
       "Bag of Organic Bananas  394930\n",
       "Organic Strawberries    275577\n",
       "Organic Baby Spinach    251705\n",
       "Organic Hass Avocado    220877\n",
       "Organic Avocado         184224\n",
       "Large Lemon             160792\n",
       "Strawberries            149445\n",
       "Limes                   146660\n",
       "Organic Whole Milk      142813"
      ]
     },
     "execution_count": 109,
     "metadata": {},
     "output_type": "execute_result"
    }
   ],
   "source": [
    "product_top_10"
   ]
  },
  {
   "cell_type": "code",
   "execution_count": 106,
   "metadata": {},
   "outputs": [
    {
     "data": {
      "image/png": "[encoded data removed]",
      "text/plain": [
       "<matplotlib.figure.Figure at 0x116e82eb8>"
      ]
     },
     "metadata": {},
     "output_type": "display_data"
    }
   ],
   "source": [
    "# Draw a bar chart for the top 10 products by sales\n",
    "\n",
    "product_top_10.plot(kind='bar', figsize=(10, 6))\n",
    "\n",
    "plt.xlabel('Product Name') # add to x-label to the plot\n",
    "plt.ylabel('Count') # add y-label to the plot\n",
    "plt.title('Top 10 Products by Sales') # add title to the plot\n",
    "\n",
    "plt.show()"
   ]
  },
  {
   "cell_type": "markdown",
   "metadata": {},
   "source": [
    "## How often do people order the same items again?"
   ]
  },
  {
   "cell_type": "markdown",
   "metadata": {},
   "source": [
    "Look at train data set"
   ]
  },
  {
   "cell_type": "code",
   "execution_count": 113,
   "metadata": {},
   "outputs": [],
   "source": [
    "# Count the frequency of reordered \n",
    "reorder_cnt_tn = order_products_train.groupby(['reordered']).apply(lambda g: pd.Series({\\\n",
    "                                    'count':g.reordered.count(),\\\n",
    "}))"
   ]
  },
  {
   "cell_type": "code",
   "execution_count": 114,
   "metadata": {},
   "outputs": [
    {
     "data": {
      "text/html": [
       "<div>\n",
       "<style scoped>\n",
       "    .dataframe tbody tr th:only-of-type {\n",
       "        vertical-align: middle;\n",
       "    }\n",
       "\n",
       "    .dataframe tbody tr th {\n",
       "        vertical-align: top;\n",
       "    }\n",
       "\n",
       "    .dataframe thead th {\n",
       "        text-align: right;\n",
       "    }\n",
       "</style>\n",
       "<table border=\"1\" class=\"dataframe\">\n",
       "  <thead>\n",
       "    <tr style=\"text-align: right;\">\n",
       "      <th></th>\n",
       "      <th>count</th>\n",
       "    </tr>\n",
       "    <tr>\n",
       "      <th>reordered</th>\n",
       "      <th></th>\n",
       "    </tr>\n",
       "  </thead>\n",
       "  <tbody>\n",
       "    <tr>\n",
       "      <td>0</td>\n",
       "      <td>555793</td>\n",
       "    </tr>\n",
       "    <tr>\n",
       "      <td>1</td>\n",
       "      <td>828824</td>\n",
       "    </tr>\n",
       "  </tbody>\n",
       "</table>\n",
       "</div>"
      ],
      "text/plain": [
       "            count\n",
       "reordered        \n",
       "0          555793\n",
       "1          828824"
      ]
     },
     "execution_count": 114,
     "metadata": {},
     "output_type": "execute_result"
    }
   ],
   "source": [
    "reorder_cnt_tn"
   ]
  },
  {
   "cell_type": "code",
   "execution_count": 130,
   "metadata": {},
   "outputs": [
    {
     "data": {
      "text/plain": [
       "[0, 1]"
      ]
     },
     "execution_count": 130,
     "metadata": {},
     "output_type": "execute_result"
    }
   ],
   "source": [
    "list(reorder_cnt_tn.index)"
   ]
  },
  {
   "cell_type": "code",
   "execution_count": 139,
   "metadata": {},
   "outputs": [
    {
     "data": {
      "image/png": "[encoded data removed]",
      "text/plain": [
       "<matplotlib.figure.Figure at 0x11a384dd8>"
      ]
     },
     "metadata": {},
     "output_type": "display_data"
    }
   ],
   "source": [
    "# Draw a bar chart for reorder frequency for train data\n",
    "from itertools import cycle, islice\n",
    "from matplotlib.pyplot import *\n",
    "\n",
    "#my_colors = [plt.cm.Paired(np.arange(len(reorder_cnt_tn)))]\n",
    "my_colors='rb'# set the color of the first bar chart to red and the second one to blue; r means read and b means blue\n",
    "reorder_cnt_tn.plot(kind='bar', figsize=(10, 6), color=my_colors, legend=None) # pass my_colors to the color setting\n",
    "                                                                              # legend=None means hide legend\n",
    "plt.xlabel('Reordered') # add to x-label to the plot\n",
    "plt.ylabel('Count') # add y-label to the plot\n",
    "plt.title('Reorder Frequency for Train Data') # add title to the plot\n",
    "\n",
    "plt.show()"
   ]
  },
  {
   "cell_type": "markdown",
   "metadata": {},
   "source": [
    "## What are the most often reordered products?"
   ]
  },
  {
   "cell_type": "code",
   "execution_count": null,
   "metadata": {
    "collapsed": true
   },
   "outputs": [],
   "source": []
  },
  {
   "cell_type": "code",
   "execution_count": null,
   "metadata": {
    "collapsed": true
   },
   "outputs": [],
   "source": []
  },
  {
   "cell_type": "code",
   "execution_count": null,
   "metadata": {
    "collapsed": true
   },
   "outputs": [],
   "source": []
  },
  {
   "cell_type": "code",
   "execution_count": null,
   "metadata": {
    "collapsed": true
   },
   "outputs": [],
   "source": []
  },
  {
   "cell_type": "code",
   "execution_count": null,
   "metadata": {
    "collapsed": true
   },
   "outputs": [],
   "source": []
  },
  {
   "cell_type": "code",
   "execution_count": null,
   "metadata": {
    "collapsed": true
   },
   "outputs": [],
   "source": []
  },
  {
   "cell_type": "code",
   "execution_count": null,
   "metadata": {
    "collapsed": true
   },
   "outputs": [],
   "source": []
  },
  {
   "cell_type": "code",
   "execution_count": null,
   "metadata": {
    "collapsed": true
   },
   "outputs": [],
   "source": []
  }
 ],
 "metadata": {
  "kernelspec": {
   "display_name": "Python 3",
   "language": "python",
   "name": "python3"
  },
  "language_info": {
   "codemirror_mode": {
    "name": "ipython",
    "version": 3
   },
   "file_extension": ".py",
   "mimetype": "text/x-python",
   "name": "python",
   "nbconvert_exporter": "python",
   "pygments_lexer": "ipython3",
   "version": "3.6.3"
  }
 },
 "nbformat": 4,
 "nbformat_minor": 2
}
